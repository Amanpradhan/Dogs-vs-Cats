{
  "nbformat": 4,
  "nbformat_minor": 0,
  "metadata": {
    "colab": {
      "name": "Untitled0.ipynb",
      "version": "0.3.2",
      "views": {},
      "default_view": {},
      "provenance": [],
      "collapsed_sections": []
    },
    "kernelspec": {
      "name": "python3",
      "display_name": "Python 3"
    },
    "accelerator": "GPU"
  },
  "cells": [
    {
      "metadata": {
        "id": "7mtmpPdSK-zw",
        "colab_type": "code",
        "colab": {
          "autoexec": {
            "startup": false,
            "wait_interval": 0
          },
          "base_uri": "https://localhost:8080/",
          "height": 34
        },
        "outputId": "9c05b7cf-3da8-415a-814a-68319f3c8434",
        "executionInfo": {
          "status": "ok",
          "timestamp": 1533440582486,
          "user_tz": -330,
          "elapsed": 3638,
          "user": {
            "displayName": "Aman Pradhan",
            "photoUrl": "https://lh3.googleusercontent.com/a/default-user=s128",
            "userId": "107763442949017077730"
          }
        }
      },
      "cell_type": "code",
      "source": [
        "import os\n",
        "import numpy as np\n",
        "from keras.models import Sequential\n",
        "from keras.layers import Activation, Dropout, Flatten, Dense\n",
        "from keras.preprocessing.image import ImageDataGenerator\n",
        "from keras.layers import Convolution2D, MaxPooling2D, ZeroPadding2D\n",
        "from keras import optimizers"
      ],
      "execution_count": 7,
      "outputs": [
        {
          "output_type": "stream",
          "text": [
            "Using TensorFlow backend.\n"
          ],
          "name": "stderr"
        }
      ]
    },
    {
      "metadata": {
        "id": "n_e1hwf1LBeS",
        "colab_type": "code",
        "colab": {
          "autoexec": {
            "startup": false,
            "wait_interval": 0
          }
        }
      },
      "cell_type": "code",
      "source": [
        "img_width, img_height = 150, 150\n",
        "\n",
        "train_data_dir = 'data/train'\n",
        "validation_data_dir = 'data/validation'"
      ],
      "execution_count": 0,
      "outputs": []
    },
    {
      "metadata": {
        "id": "FDhng--rLEyn",
        "colab_type": "code",
        "colab": {
          "autoexec": {
            "startup": false,
            "wait_interval": 0
          },
          "base_uri": "https://localhost:8080/",
          "height": 51
        },
        "outputId": "3acbc5d0-0f2c-42e9-dbfd-c269574c41a6",
        "executionInfo": {
          "status": "ok",
          "timestamp": 1533440587134,
          "user_tz": -330,
          "elapsed": 1371,
          "user": {
            "displayName": "Aman Pradhan",
            "photoUrl": "https://lh3.googleusercontent.com/a/default-user=s128",
            "userId": "107763442949017077730"
          }
        }
      },
      "cell_type": "code",
      "source": [
        "datagen = ImageDataGenerator(1./255)\n",
        "train_generator = datagen.flow_from_directory(train_data_dir, target_size=(img_width, img_height),\n",
        "                                             batch_size=16, class_mode='binary')\n",
        "\n",
        "validation_generator = datagen.flow_from_directory(validation_data_dir, target_size=(img_width, img_height),\n",
        "                                                  batch_size=32, class_mode='binary')"
      ],
      "execution_count": 9,
      "outputs": [
        {
          "output_type": "stream",
          "text": [
            "Found 2048 images belonging to 2 classes.\n",
            "Found 832 images belonging to 2 classes.\n"
          ],
          "name": "stdout"
        }
      ]
    },
    {
      "metadata": {
        "id": "fcUcL0DhLHB4",
        "colab_type": "code",
        "colab": {
          "autoexec": {
            "startup": false,
            "wait_interval": 0
          },
          "base_uri": "https://localhost:8080/",
          "height": 139
        },
        "outputId": "93bf6261-84f1-4cff-ab90-5056cacf10ff",
        "executionInfo": {
          "status": "ok",
          "timestamp": 1533440588494,
          "user_tz": -330,
          "elapsed": 1295,
          "user": {
            "displayName": "Aman Pradhan",
            "photoUrl": "https://lh3.googleusercontent.com/a/default-user=s128",
            "userId": "107763442949017077730"
          }
        }
      },
      "cell_type": "code",
      "source": [
        "model = Sequential()\n",
        "model.add(Convolution2D(32, 3, 3, input_shape=(img_width, img_height, 3)))\n",
        "model.add(Activation('relu'))\n",
        "model.add((MaxPooling2D(pool_size=(2,2))))\n",
        "\n",
        "model.add(Convolution2D(32, 3, 3))\n",
        "model.add(Activation('relu'))\n",
        "model.add(MaxPooling2D(pool_size=(2,2)))\n",
        "\n",
        "model.add(Convolution2D(64, 3, 3))\n",
        "model.add(Activation('relu'))\n",
        "model.add(MaxPooling2D(pool_size=(2,2)))\n",
        "\n",
        "model.add(Flatten())\n",
        "model.add(Dense(64))\n",
        "model.add(Activation('relu'))\n",
        "model.add(Dropout(0.5))\n",
        "model.add(Dense(1))\n",
        "model.add(Activation('sigmoid'))"
      ],
      "execution_count": 10,
      "outputs": [
        {
          "output_type": "stream",
          "text": [
            "/usr/local/lib/python3.6/dist-packages/ipykernel_launcher.py:2: UserWarning: Update your `Conv2D` call to the Keras 2 API: `Conv2D(32, (3, 3), input_shape=(150, 150,...)`\n",
            "  \n",
            "/usr/local/lib/python3.6/dist-packages/ipykernel_launcher.py:6: UserWarning: Update your `Conv2D` call to the Keras 2 API: `Conv2D(32, (3, 3))`\n",
            "  \n",
            "/usr/local/lib/python3.6/dist-packages/ipykernel_launcher.py:10: UserWarning: Update your `Conv2D` call to the Keras 2 API: `Conv2D(64, (3, 3))`\n",
            "  # Remove the CWD from sys.path while we load stuff.\n"
          ],
          "name": "stderr"
        }
      ]
    },
    {
      "metadata": {
        "id": "iGF2yw40LJbU",
        "colab_type": "code",
        "colab": {
          "autoexec": {
            "startup": false,
            "wait_interval": 0
          }
        }
      },
      "cell_type": "code",
      "source": [
        "model.compile(loss='binary_crossentropy',\n",
        "             optimizer='rmsprop',\n",
        "             metrics=['accuracy'])"
      ],
      "execution_count": 0,
      "outputs": []
    },
    {
      "metadata": {
        "id": "yaqwpHWgLOyL",
        "colab_type": "code",
        "colab": {
          "autoexec": {
            "startup": false,
            "wait_interval": 0
          },
          "base_uri": "https://localhost:8080/",
          "height": 1176
        },
        "outputId": "9f0f0d6e-6e06-44ad-ae75-81c6f1f8fb58",
        "executionInfo": {
          "status": "ok",
          "timestamp": 1533443514683,
          "user_tz": -330,
          "elapsed": 2924848,
          "user": {
            "displayName": "Aman Pradhan",
            "photoUrl": "https://lh3.googleusercontent.com/a/default-user=s128",
            "userId": "107763442949017077730"
          }
        }
      },
      "cell_type": "code",
      "source": [
        "epoch = 30\n",
        "train_samples = 2048\n",
        "validation_samples = 832\n",
        "\n",
        "model.fit_generator(train_generator, samples_per_epoch=train_samples, nb_epoch=epoch, \n",
        "                   validation_data=validation_generator, nb_val_samples=validation_samples)"
      ],
      "execution_count": 12,
      "outputs": [
        {
          "output_type": "stream",
          "text": [
            "/usr/local/lib/python3.6/dist-packages/ipykernel_launcher.py:6: UserWarning: The semantics of the Keras 2 argument `steps_per_epoch` is not the same as the Keras 1 argument `samples_per_epoch`. `steps_per_epoch` is the number of batches to draw from the generator at each epoch. Basically steps_per_epoch = samples_per_epoch/batch_size. Similarly `nb_val_samples`->`validation_steps` and `val_samples`->`steps` arguments have changed. Update your method calls accordingly.\n",
            "  \n",
            "/usr/local/lib/python3.6/dist-packages/ipykernel_launcher.py:6: UserWarning: Update your `fit_generator` call to the Keras 2 API: `fit_generator(<keras.pre..., validation_data=<keras.pre..., steps_per_epoch=128, epochs=30, validation_steps=832)`\n",
            "  \n"
          ],
          "name": "stderr"
        },
        {
          "output_type": "stream",
          "text": [
            "Epoch 1/30\n"
          ],
          "name": "stdout"
        },
        {
          "output_type": "stream",
          "text": [
            "/usr/local/lib/python3.6/dist-packages/keras/preprocessing/image.py:799: UserWarning: This ImageDataGenerator specifies `featurewise_center`, but it hasn't been fit on any training data. Fit it first by calling `.fit(numpy_data)`.\n",
            "  warnings.warn('This ImageDataGenerator specifies '\n"
          ],
          "name": "stderr"
        },
        {
          "output_type": "stream",
          "text": [
            "128/128 [==============================] - 102s 795ms/step - loss: 8.0313 - acc: 0.5015 - val_loss: 8.0590 - val_acc: 0.5000\n",
            "Epoch 2/30\n",
            "128/128 [==============================] - 99s 773ms/step - loss: 8.0087 - acc: 0.5029 - val_loss: 8.0590 - val_acc: 0.5000\n",
            "Epoch 3/30\n",
            "128/128 [==============================] - 99s 772ms/step - loss: 8.0590 - acc: 0.5000 - val_loss: 8.0590 - val_acc: 0.5000\n",
            "Epoch 4/30\n",
            " 48/128 [==========>...................] - ETA: 4s - loss: 8.0048 - acc: 0.5026"
          ],
          "name": "stdout"
        },
        {
          "output_type": "stream",
          "text": [
            "128/128 [==============================] - 99s 773ms/step - loss: 8.0623 - acc: 0.4995 - val_loss: 8.0590 - val_acc: 0.5000\n",
            "Epoch 5/30\n",
            "128/128 [==============================] - 98s 764ms/step - loss: 8.0590 - acc: 0.5000 - val_loss: 8.0590 - val_acc: 0.5000\n",
            "Epoch 6/30\n",
            "128/128 [==============================] - 98s 764ms/step - loss: 8.0590 - acc: 0.5000 - val_loss: 8.0590 - val_acc: 0.5000\n",
            "Epoch 7/30\n",
            " 50/128 [==========>...................] - ETA: 4s - loss: 7.8777 - acc: 0.5112\b\b\b\b\b\b\b\b\b\b\b\b\b\b\b\b\b\b\b\b\b\b\b\b\b\b\b\b\b\b\b\b\b\b\b\b\b\b\b\b\b\b\b\b\b\b\b\b\b\b\b\b\b\b\b\b\b\b\b\b\b\b\b\b\b\b\b\b\b\b\b\b\b\b\b\b\b\b\b"
          ],
          "name": "stdout"
        },
        {
          "output_type": "stream",
          "text": [
            "128/128 [==============================] - 99s 773ms/step - loss: 8.0590 - acc: 0.5000 - val_loss: 8.0590 - val_acc: 0.5000\n",
            "Epoch 8/30\n",
            "128/128 [==============================] - 98s 767ms/step - loss: 8.0590 - acc: 0.5000 - val_loss: 8.0590 - val_acc: 0.5000\n",
            "Epoch 9/30\n",
            "128/128 [==============================] - 98s 766ms/step - loss: 8.0590 - acc: 0.5000 - val_loss: 8.0590 - val_acc: 0.5000\n",
            "Epoch 10/30\n",
            " 56/128 [============>.................] - ETA: 3s - loss: 7.9151 - acc: 0.5089"
          ],
          "name": "stdout"
        },
        {
          "output_type": "stream",
          "text": [
            "128/128 [==============================] - 98s 764ms/step - loss: 8.0590 - acc: 0.5000 - val_loss: 8.0590 - val_acc: 0.5000\n",
            "Epoch 11/30\n",
            "128/128 [==============================] - 98s 764ms/step - loss: 8.0590 - acc: 0.5000 - val_loss: 8.0590 - val_acc: 0.5000\n",
            "Epoch 12/30\n",
            "128/128 [==============================] - 98s 765ms/step - loss: 8.0590 - acc: 0.5000 - val_loss: 8.0590 - val_acc: 0.5000\n",
            "Epoch 13/30\n",
            " 57/128 [============>.................] - ETA: 3s - loss: 7.8116 - acc: 0.5154"
          ],
          "name": "stdout"
        },
        {
          "output_type": "stream",
          "text": [
            "128/128 [==============================] - 98s 765ms/step - loss: 8.0590 - acc: 0.5000 - val_loss: 8.0590 - val_acc: 0.5000\n",
            "Epoch 14/30\n",
            "128/128 [==============================] - 98s 765ms/step - loss: 8.0668 - acc: 0.4995 - val_loss: 8.0590 - val_acc: 0.5000\n",
            "Epoch 15/30\n",
            "128/128 [==============================] - 98s 765ms/step - loss: 8.0590 - acc: 0.5000 - val_loss: 8.0590 - val_acc: 0.5000\n",
            "Epoch 16/30\n",
            " 61/128 [=============>................] - ETA: 3s - loss: 8.2572 - acc: 0.4877"
          ],
          "name": "stdout"
        },
        {
          "output_type": "stream",
          "text": [
            "128/128 [==============================] - 98s 764ms/step - loss: 8.0590 - acc: 0.5000 - val_loss: 8.0590 - val_acc: 0.5000\n",
            "Epoch 17/30\n",
            "128/128 [==============================] - 98s 764ms/step - loss: 8.0590 - acc: 0.5000 - val_loss: 8.0590 - val_acc: 0.5000\n",
            "Epoch 18/30\n",
            "128/128 [==============================] - 98s 768ms/step - loss: 8.0590 - acc: 0.5000 - val_loss: 8.0590 - val_acc: 0.5000\n",
            "Epoch 19/30\n",
            " 56/128 [============>.................] - ETA: 3s - loss: 8.0950 - acc: 0.4978"
          ],
          "name": "stdout"
        },
        {
          "output_type": "stream",
          "text": [
            "128/128 [==============================] - 98s 763ms/step - loss: 8.0590 - acc: 0.5000 - val_loss: 8.0590 - val_acc: 0.5000\n",
            "Epoch 20/30\n",
            "128/128 [==============================] - 98s 765ms/step - loss: 8.0590 - acc: 0.5000 - val_loss: 8.0590 - val_acc: 0.5000\n",
            "Epoch 21/30\n",
            "128/128 [==============================] - 98s 765ms/step - loss: 8.0590 - acc: 0.5000 - val_loss: 8.0590 - val_acc: 0.5000\n",
            "Epoch 22/30\n",
            " 58/128 [============>.................] - ETA: 3s - loss: 8.4933 - acc: 0.4731"
          ],
          "name": "stdout"
        },
        {
          "output_type": "stream",
          "text": [
            "128/128 [==============================] - 98s 768ms/step - loss: 8.0590 - acc: 0.5000 - val_loss: 8.0590 - val_acc: 0.5000\n",
            "Epoch 23/30\n",
            "128/128 [==============================] - 98s 766ms/step - loss: 8.0590 - acc: 0.5000 - val_loss: 8.0590 - val_acc: 0.5000\n",
            "Epoch 24/30\n",
            "128/128 [==============================] - 94s 738ms/step - loss: 8.0590 - acc: 0.5000 - val_loss: 8.0590 - val_acc: 0.5000\n",
            "Epoch 25/30\n",
            " 52/128 [===========>..................] - ETA: 4s - loss: 7.6135 - acc: 0.5276"
          ],
          "name": "stdout"
        },
        {
          "output_type": "stream",
          "text": [
            "128/128 [==============================] - 95s 743ms/step - loss: 8.0668 - acc: 0.4995 - val_loss: 8.0590 - val_acc: 0.5000\n",
            "Epoch 26/30\n",
            "128/128 [==============================] - 95s 742ms/step - loss: 8.0590 - acc: 0.5000 - val_loss: 8.0590 - val_acc: 0.5000\n",
            "Epoch 27/30\n",
            "128/128 [==============================] - 95s 743ms/step - loss: 8.0590 - acc: 0.5000 - val_loss: 8.0590 - val_acc: 0.5000\n",
            "Epoch 28/30\n",
            " 57/128 [============>.................] - ETA: 3s - loss: 8.0237 - acc: 0.5022"
          ],
          "name": "stdout"
        },
        {
          "output_type": "stream",
          "text": [
            "128/128 [==============================] - 94s 736ms/step - loss: 8.0590 - acc: 0.5000 - val_loss: 8.0590 - val_acc: 0.5000\n",
            "Epoch 29/30\n",
            "128/128 [==============================] - 94s 738ms/step - loss: 8.0590 - acc: 0.5000 - val_loss: 8.0590 - val_acc: 0.5000\n",
            "Epoch 30/30\n",
            "128/128 [==============================] - 95s 740ms/step - loss: 8.0590 - acc: 0.5000 - val_loss: 8.0590 - val_acc: 0.5000\n"
          ],
          "name": "stdout"
        },
        {
          "output_type": "execute_result",
          "data": {
            "text/plain": [
              "<keras.callbacks.History at 0x7fc2785dfc88>"
            ]
          },
          "metadata": {
            "tags": []
          },
          "execution_count": 12
        }
      ]
    },
    {
      "metadata": {
        "id": "ioPu7kHWLSkp",
        "colab_type": "code",
        "colab": {
          "autoexec": {
            "startup": false,
            "wait_interval": 0
          }
        }
      },
      "cell_type": "code",
      "source": [
        "model.save_weights('models/basic_cnn.h5')\n"
      ],
      "execution_count": 0,
      "outputs": []
    },
    {
      "metadata": {
        "id": "qwUndfL3baK4",
        "colab_type": "code",
        "colab": {
          "autoexec": {
            "startup": false,
            "wait_interval": 0
          }
        }
      },
      "cell_type": "code",
      "source": [
        "!mkdir models"
      ],
      "execution_count": 0,
      "outputs": []
    },
    {
      "metadata": {
        "id": "wqJxjd_rbfKb",
        "colab_type": "code",
        "colab": {
          "autoexec": {
            "startup": false,
            "wait_interval": 0
          },
          "base_uri": "https://localhost:8080/",
          "height": 88
        },
        "outputId": "aa287b99-e087-4018-c5e7-64c784a3f0f8",
        "executionInfo": {
          "status": "ok",
          "timestamp": 1533444862308,
          "user_tz": -330,
          "elapsed": 90810,
          "user": {
            "displayName": "Aman Pradhan",
            "photoUrl": "https://lh3.googleusercontent.com/a/default-user=s128",
            "userId": "107763442949017077730"
          }
        }
      },
      "cell_type": "code",
      "source": [
        "model.evaluate_generator(validation_generator, validation_samples)"
      ],
      "execution_count": 16,
      "outputs": [
        {
          "output_type": "stream",
          "text": [
            "/usr/local/lib/python3.6/dist-packages/keras/preprocessing/image.py:799: UserWarning: This ImageDataGenerator specifies `featurewise_center`, but it hasn't been fit on any training data. Fit it first by calling `.fit(numpy_data)`.\n",
            "  warnings.warn('This ImageDataGenerator specifies '\n"
          ],
          "name": "stderr"
        },
        {
          "output_type": "execute_result",
          "data": {
            "text/plain": [
              "[8.059047792966549, 0.5]"
            ]
          },
          "metadata": {
            "tags": []
          },
          "execution_count": 16
        }
      ]
    },
    {
      "metadata": {
        "id": "RiYHcMAlLlMB",
        "colab_type": "text"
      },
      "cell_type": "markdown",
      "source": [
        "##We are getting accuracy of 0.5, which is low"
      ]
    },
    {
      "metadata": {
        "id": "p81VSopbLqZ3",
        "colab_type": "text"
      },
      "cell_type": "markdown",
      "source": [
        "##Trying Data Augmentation"
      ]
    },
    {
      "metadata": {
        "id": "6RaSLj1Zbk5C",
        "colab_type": "code",
        "colab": {
          "autoexec": {
            "startup": false,
            "wait_interval": 0
          },
          "base_uri": "https://localhost:8080/",
          "height": 34
        },
        "outputId": "6735cda4-224d-424a-892d-e0f5af712ff6",
        "executionInfo": {
          "status": "ok",
          "timestamp": 1533444950691,
          "user_tz": -330,
          "elapsed": 697,
          "user": {
            "displayName": "Aman Pradhan",
            "photoUrl": "https://lh3.googleusercontent.com/a/default-user=s128",
            "userId": "107763442949017077730"
          }
        }
      },
      "cell_type": "code",
      "source": [
        "train_datagen_augmented = ImageDataGenerator(\n",
        "        rescale=1./255,        # normalize pixel values to [0,1]\n",
        "        shear_range=0.2,       # randomly applies shearing transformation\n",
        "        zoom_range=0.2,        # randomly applies shearing transformation\n",
        "        horizontal_flip=True)  # randomly flip the images\n",
        "\n",
        "# same code as before\n",
        "train_generator_augmented = train_datagen_augmented.flow_from_directory(\n",
        "        train_data_dir,\n",
        "        target_size=(img_width, img_height),\n",
        "        batch_size=32,\n",
        "        class_mode='binary')"
      ],
      "execution_count": 17,
      "outputs": [
        {
          "output_type": "stream",
          "text": [
            "Found 2048 images belonging to 2 classes.\n"
          ],
          "name": "stdout"
        }
      ]
    },
    {
      "metadata": {
        "id": "QLQWC-zPcQd9",
        "colab_type": "code",
        "colab": {
          "autoexec": {
            "startup": false,
            "wait_interval": 0
          },
          "base_uri": "https://localhost:8080/",
          "height": 1176
        },
        "outputId": "a4df696c-620f-4253-80b6-2e546bd27922",
        "executionInfo": {
          "status": "ok",
          "timestamp": 1533448168930,
          "user_tz": -330,
          "elapsed": 2147178,
          "user": {
            "displayName": "Aman Pradhan",
            "photoUrl": "https://lh3.googleusercontent.com/a/default-user=s128",
            "userId": "107763442949017077730"
          }
        }
      },
      "cell_type": "code",
      "source": [
        "model.fit_generator(\n",
        "        train_generator_augmented,\n",
        "        samples_per_epoch=train_samples,\n",
        "        nb_epoch=epoch,\n",
        "        validation_data=validation_generator,\n",
        "        nb_val_samples=validation_samples)"
      ],
      "execution_count": 20,
      "outputs": [
        {
          "output_type": "stream",
          "text": [
            "/usr/local/lib/python3.6/dist-packages/ipykernel_launcher.py:6: UserWarning: The semantics of the Keras 2 argument `steps_per_epoch` is not the same as the Keras 1 argument `samples_per_epoch`. `steps_per_epoch` is the number of batches to draw from the generator at each epoch. Basically steps_per_epoch = samples_per_epoch/batch_size. Similarly `nb_val_samples`->`validation_steps` and `val_samples`->`steps` arguments have changed. Update your method calls accordingly.\n",
            "  \n",
            "/usr/local/lib/python3.6/dist-packages/ipykernel_launcher.py:6: UserWarning: Update your `fit_generator` call to the Keras 2 API: `fit_generator(<keras.pre..., validation_data=<keras.pre..., steps_per_epoch=64, epochs=30, validation_steps=832)`\n",
            "  \n"
          ],
          "name": "stderr"
        },
        {
          "output_type": "stream",
          "text": [
            "Epoch 1/30\n",
            "63/64 [============================>.] - ETA: 0s - loss: 0.8193 - acc: 0.5352"
          ],
          "name": "stdout"
        },
        {
          "output_type": "stream",
          "text": [
            "/usr/local/lib/python3.6/dist-packages/keras/preprocessing/image.py:799: UserWarning: This ImageDataGenerator specifies `featurewise_center`, but it hasn't been fit on any training data. Fit it first by calling `.fit(numpy_data)`.\n",
            "  warnings.warn('This ImageDataGenerator specifies '\n"
          ],
          "name": "stderr"
        },
        {
          "output_type": "stream",
          "text": [
            "64/64 [==============================] - 109s 2s/step - loss: 0.8173 - acc: 0.5361 - val_loss: 6.5829 - val_acc: 0.5325\n",
            "Epoch 2/30\n",
            "64/64 [==============================] - 108s 2s/step - loss: 0.6926 - acc: 0.5542 - val_loss: 4.9629 - val_acc: 0.6166\n",
            "Epoch 3/30\n",
            "64/64 [==============================] - 107s 2s/step - loss: 0.6768 - acc: 0.6113 - val_loss: 5.3976 - val_acc: 0.6406\n",
            "Epoch 4/30\n",
            "64/64 [==============================] - 106s 2s/step - loss: 0.6587 - acc: 0.6348 - val_loss: 5.6418 - val_acc: 0.6238\n",
            "Epoch 5/30\n",
            "60/64 [===========================>..] - ETA: 0s - loss: 0.6337 - acc: 0.6458"
          ],
          "name": "stdout"
        },
        {
          "output_type": "stream",
          "text": [
            "64/64 [==============================] - 107s 2s/step - loss: 0.6313 - acc: 0.6514 - val_loss: 5.1954 - val_acc: 0.6671\n",
            "Epoch 6/30\n",
            "64/64 [==============================] - 108s 2s/step - loss: 0.6010 - acc: 0.6958 - val_loss: 5.1578 - val_acc: 0.6635\n",
            "Epoch 7/30\n",
            "64/64 [==============================] - 105s 2s/step - loss: 0.5878 - acc: 0.7070 - val_loss: 7.4805 - val_acc: 0.5300\n",
            "Epoch 8/30\n",
            "64/64 [==============================] - 107s 2s/step - loss: 0.5712 - acc: 0.7095 - val_loss: 4.4985 - val_acc: 0.7031\n",
            "Epoch 9/30\n",
            "60/64 [===========================>..] - ETA: 0s - loss: 0.5539 - acc: 0.7193"
          ],
          "name": "stdout"
        },
        {
          "output_type": "stream",
          "text": [
            "64/64 [==============================] - 107s 2s/step - loss: 0.5509 - acc: 0.7217 - val_loss: 4.9390 - val_acc: 0.6827\n",
            "Epoch 10/30\n",
            "64/64 [==============================] - 108s 2s/step - loss: 0.5400 - acc: 0.7417 - val_loss: 4.6018 - val_acc: 0.6995\n",
            "Epoch 11/30\n",
            "64/64 [==============================] - 105s 2s/step - loss: 0.5277 - acc: 0.7368 - val_loss: 5.9575 - val_acc: 0.6226\n",
            "Epoch 12/30\n",
            "64/64 [==============================] - 107s 2s/step - loss: 0.4944 - acc: 0.7622 - val_loss: 6.1990 - val_acc: 0.6082\n",
            "Epoch 13/30\n",
            "58/64 [==========================>...] - ETA: 1s - loss: 0.4775 - acc: 0.7856"
          ],
          "name": "stdout"
        },
        {
          "output_type": "stream",
          "text": [
            "64/64 [==============================] - 108s 2s/step - loss: 0.4739 - acc: 0.7896 - val_loss: 4.7925 - val_acc: 0.6959\n",
            "Epoch 14/30\n",
            "64/64 [==============================] - 105s 2s/step - loss: 0.4712 - acc: 0.7764 - val_loss: 5.2380 - val_acc: 0.6707\n",
            "Epoch 15/30\n",
            "64/64 [==============================] - 107s 2s/step - loss: 0.4768 - acc: 0.7695 - val_loss: 6.3136 - val_acc: 0.5986\n",
            "Epoch 16/30\n",
            "64/64 [==============================] - 108s 2s/step - loss: 0.4695 - acc: 0.7832 - val_loss: 4.3383 - val_acc: 0.7200\n",
            "Epoch 17/30\n",
            "58/64 [==========================>...] - ETA: 1s - loss: 0.4621 - acc: 0.7985"
          ],
          "name": "stdout"
        },
        {
          "output_type": "stream",
          "text": [
            "64/64 [==============================] - 106s 2s/step - loss: 0.4650 - acc: 0.7964 - val_loss: 4.4052 - val_acc: 0.7175\n",
            "Epoch 18/30\n",
            "64/64 [==============================] - 108s 2s/step - loss: 0.4513 - acc: 0.7905 - val_loss: 4.3468 - val_acc: 0.7212\n",
            "Epoch 19/30\n",
            "64/64 [==============================] - 108s 2s/step - loss: 0.4446 - acc: 0.7969 - val_loss: 4.4373 - val_acc: 0.7163\n",
            "Epoch 20/30\n",
            "64/64 [==============================] - 107s 2s/step - loss: 0.4225 - acc: 0.8169 - val_loss: 4.5777 - val_acc: 0.7103\n",
            "Epoch 21/30\n",
            "57/64 [=========================>....] - ETA: 1s - loss: 0.4341 - acc: 0.8043"
          ],
          "name": "stdout"
        },
        {
          "output_type": "stream",
          "text": [
            "64/64 [==============================] - 106s 2s/step - loss: 0.4264 - acc: 0.8086 - val_loss: 3.9900 - val_acc: 0.7476\n",
            "Epoch 22/30\n",
            "64/64 [==============================] - 110s 2s/step - loss: 0.4311 - acc: 0.8081 - val_loss: 4.3725 - val_acc: 0.7224\n",
            "Epoch 23/30\n",
            "64/64 [==============================] - 106s 2s/step - loss: 0.4020 - acc: 0.8101 - val_loss: 4.6132 - val_acc: 0.7067\n",
            "Epoch 24/30\n",
            "64/64 [==============================] - 108s 2s/step - loss: 0.4091 - acc: 0.8169 - val_loss: 4.2987 - val_acc: 0.7272\n",
            "Epoch 25/30\n",
            "59/64 [==========================>...] - ETA: 1s - loss: 0.3947 - acc: 0.8236"
          ],
          "name": "stdout"
        },
        {
          "output_type": "stream",
          "text": [
            "64/64 [==============================] - 103s 2s/step - loss: 0.3934 - acc: 0.8252 - val_loss: 4.0449 - val_acc: 0.7368\n",
            "Epoch 26/30\n",
            "64/64 [==============================] - 102s 2s/step - loss: 0.3918 - acc: 0.8281 - val_loss: 4.3829 - val_acc: 0.7236\n",
            "Epoch 27/30\n",
            "64/64 [==============================] - 103s 2s/step - loss: 0.3773 - acc: 0.8340 - val_loss: 4.1020 - val_acc: 0.7392\n",
            "Epoch 28/30\n",
            "64/64 [==============================] - 103s 2s/step - loss: 0.3794 - acc: 0.8379 - val_loss: 3.7909 - val_acc: 0.7620\n",
            "Epoch 29/30\n",
            "57/64 [=========================>....] - ETA: 1s - loss: 0.3677 - acc: 0.8492"
          ],
          "name": "stdout"
        },
        {
          "output_type": "stream",
          "text": [
            "64/64 [==============================] - 103s 2s/step - loss: 0.3774 - acc: 0.8428 - val_loss: 5.4934 - val_acc: 0.6538\n",
            "Epoch 30/30\n",
            "64/64 [==============================] - 103s 2s/step - loss: 0.3795 - acc: 0.8408 - val_loss: 4.0179 - val_acc: 0.7464\n"
          ],
          "name": "stdout"
        },
        {
          "output_type": "execute_result",
          "data": {
            "text/plain": [
              "<keras.callbacks.History at 0x7fc232b75400>"
            ]
          },
          "metadata": {
            "tags": []
          },
          "execution_count": 20
        }
      ]
    },
    {
      "metadata": {
        "id": "T-caxE-icS2-",
        "colab_type": "code",
        "colab": {
          "autoexec": {
            "startup": false,
            "wait_interval": 0
          }
        }
      },
      "cell_type": "code",
      "source": [
        "model.save_weights('models/augmented.h5')"
      ],
      "execution_count": 0,
      "outputs": []
    },
    {
      "metadata": {
        "id": "a0ikOFpfox6x",
        "colab_type": "code",
        "colab": {
          "autoexec": {
            "startup": false,
            "wait_interval": 0
          },
          "base_uri": "https://localhost:8080/",
          "height": 88
        },
        "outputId": "99eb42b5-f69b-49cc-8668-7f3e0dc7dfe3",
        "executionInfo": {
          "status": "ok",
          "timestamp": 1533448333216,
          "user_tz": -330,
          "elapsed": 86234,
          "user": {
            "displayName": "Aman Pradhan",
            "photoUrl": "https://lh3.googleusercontent.com/a/default-user=s128",
            "userId": "107763442949017077730"
          }
        }
      },
      "cell_type": "code",
      "source": [
        "model.evaluate_generator(validation_generator, validation_samples)\n"
      ],
      "execution_count": 22,
      "outputs": [
        {
          "output_type": "stream",
          "text": [
            "/usr/local/lib/python3.6/dist-packages/keras/preprocessing/image.py:799: UserWarning: This ImageDataGenerator specifies `featurewise_center`, but it hasn't been fit on any training data. Fit it first by calling `.fit(numpy_data)`.\n",
            "  warnings.warn('This ImageDataGenerator specifies '\n"
          ],
          "name": "stderr"
        },
        {
          "output_type": "execute_result",
          "data": {
            "text/plain": [
              "[4.01787317221841, 0.7463942307692307]"
            ]
          },
          "metadata": {
            "tags": []
          },
          "execution_count": 22
        }
      ]
    },
    {
      "metadata": {
        "id": "Uw-ggx6HL31f",
        "colab_type": "text"
      },
      "cell_type": "markdown",
      "source": [
        "##After doing data augmentation, we are getting accuracy of ~75%"
      ]
    },
    {
      "metadata": {
        "id": "39CUrV27o1Yy",
        "colab_type": "code",
        "colab": {
          "autoexec": {
            "startup": false,
            "wait_interval": 0
          },
          "base_uri": "https://localhost:8080/",
          "height": 34
        },
        "outputId": "5244813c-9fa4-41bb-c2ff-86d6270a019b",
        "executionInfo": {
          "status": "ok",
          "timestamp": 1533448434610,
          "user_tz": -330,
          "elapsed": 1700,
          "user": {
            "displayName": "Aman Pradhan",
            "photoUrl": "https://lh3.googleusercontent.com/a/default-user=s128",
            "userId": "107763442949017077730"
          }
        }
      },
      "cell_type": "code",
      "source": [
        "!ls"
      ],
      "execution_count": 23,
      "outputs": [
        {
          "output_type": "stream",
          "text": [
            "data  datalab  keras-workshop  models\r\n"
          ],
          "name": "stdout"
        }
      ]
    },
    {
      "metadata": {
        "id": "y5Rnws92piyi",
        "colab_type": "code",
        "colab": {
          "autoexec": {
            "startup": false,
            "wait_interval": 0
          }
        }
      },
      "cell_type": "code",
      "source": [
        "from google.colab import files\n",
        "files.download('models/augmented.h5')"
      ],
      "execution_count": 0,
      "outputs": []
    },
    {
      "metadata": {
        "id": "WNyWnG1pprFp",
        "colab_type": "code",
        "colab": {
          "autoexec": {
            "startup": false,
            "wait_interval": 0
          }
        }
      },
      "cell_type": "code",
      "source": [
        ""
      ],
      "execution_count": 0,
      "outputs": []
    }
  ]
}